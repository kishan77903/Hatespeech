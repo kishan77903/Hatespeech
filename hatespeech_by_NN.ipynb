{
 "cells": [
  {
   "cell_type": "markdown",
   "metadata": {},
   "source": [
    "## Classifying Twitter Dataset"
   ]
  },
  {
   "cell_type": "code",
   "execution_count": 1,
   "metadata": {
    "collapsed": true
   },
   "outputs": [],
   "source": [
    "import pandas as pd\n",
    "data = pd.read_csv(\"data_folder/tweet_dataset.csv\")\n",
    "tweet_list = []\n",
    "label_list = []\n",
    "for each in list(data.iloc[:,2]):\n",
    "    tweet_list.append(each.split())\n",
    "for each in list(data.iloc[:,1]):\n",
    "    label_list.append(each.split())\n",
    "dataset_len = len(tweet_list)\n",
    "train_tweet_list = tweet_list[:dataset_len*6//10]\n",
    "test_tweet_list = tweet_list[dataset_len*6//10:]\n",
    "train_label_list = label_list[:dataset_len*6//10]\n",
    "test_label_list = label_list[dataset_len*6//10:]\n",
    "#print(tweet_list)\n",
    "#print(set(data.iloc[:,1]))"
   ]
  },
  {
   "cell_type": "code",
   "execution_count": 2,
   "metadata": {},
   "outputs": [
    {
     "name": "stderr",
     "output_type": "stream",
     "text": [
      "C:\\Users\\HP\\Anaconda3\\lib\\site-packages\\gensim\\utils.py:1209: UserWarning: detected Windows; aliasing chunkize to chunkize_serial\n",
      "  warnings.warn(\"detected Windows; aliasing chunkize to chunkize_serial\")\n"
     ]
    },
    {
     "name": "stdout",
     "output_type": "stream",
     "text": [
      "Word2Vec(vocab=15377, size=100, alpha=0.025)\n"
     ]
    },
    {
     "name": "stderr",
     "output_type": "stream",
     "text": [
      "C:\\Users\\HP\\Anaconda3\\lib\\site-packages\\ipykernel_launcher.py:8: DeprecationWarning: Call to deprecated `__getitem__` (Method will be removed in 4.0.0, use self.wv.__getitem__() instead).\n",
      "  \n"
     ]
    }
   ],
   "source": [
    "'''\n",
    "Self Model with word vector size 100\n",
    "'''\n",
    "from gensim.models import Word2Vec\n",
    "model = Word2Vec(train_tweet_list,min_count = 1,sg=1)\n",
    "print(model)\n",
    "vocab = model.wv.vocab\n",
    "vocab_vector = model[vocab]\n",
    "model.save('model100')"
   ]
  },
  {
   "cell_type": "code",
   "execution_count": 3,
   "metadata": {},
   "outputs": [
    {
     "data": {
      "image/png": "[encoded data removed]",
      "text/plain": [
       "<Figure size 432x288 with 1 Axes>"
      ]
     },
     "metadata": {},
     "output_type": "display_data"
    }
   ],
   "source": [
    "from sklearn.decomposition import PCA\n",
    "import matplotlib.pyplot as plt\n",
    "pca = PCA(n_components = 2)\n",
    "vector = pca.fit_transform(vocab_vector)\n",
    "plt.scatter(vector[:,0],vector[:,1])\n",
    "plt.show()\n"
   ]
  },
  {
   "cell_type": "code",
   "execution_count": 4,
   "metadata": {},
   "outputs": [
    {
     "name": "stdout",
     "output_type": "stream",
     "text": [
      "['PAX', 'ugh', 'what', 'did', 'they', 'do', 'this', 'year']\n"
     ]
    },
    {
     "name": "stderr",
     "output_type": "stream",
     "text": [
      "C:\\Users\\HP\\Anaconda3\\lib\\site-packages\\ipykernel_launcher.py:4: DeprecationWarning: Call to deprecated `most_similar` (Method will be removed in 4.0.0, use self.wv.most_similar() instead).\n",
      "  after removing the cwd from sys.path.\n",
      "C:\\Users\\HP\\Anaconda3\\lib\\site-packages\\gensim\\matutils.py:737: FutureWarning: Conversion of the second argument of issubdtype from `int` to `np.signedinteger` is deprecated. In future, it will be treated as `np.int32 == np.dtype(int).type`.\n",
      "  if np.issubdtype(vec.dtype, np.int):\n"
     ]
    },
    {
     "data": {
      "text/plain": [
       "0.9707221984863281"
      ]
     },
     "execution_count": 4,
     "metadata": {},
     "output_type": "execute_result"
    }
   ],
   "source": [
    "model = Word2Vec.load(\"model100\")\n",
    "vocab = model.wv.vocab\n",
    "print(test_tweet_list[160])\n",
    "model.most_similar('did')[0][1]"
   ]
  },
  {
   "cell_type": "markdown",
   "metadata": {},
   "source": [
    "# Classification using Neural network\n",
    "## we are using MLPClassifier algorithm"
   ]
  },
  {
   "cell_type": "markdown",
   "metadata": {},
   "source": [
    "By taking the word vector of sentences as the average of word vector of word present in sentence as well as Word2Vec vocablury"
   ]
  },
  {
   "cell_type": "code",
   "execution_count": 5,
   "metadata": {},
   "outputs": [
    {
     "name": "stderr",
     "output_type": "stream",
     "text": [
      "C:\\Users\\HP\\Anaconda3\\lib\\site-packages\\ipykernel_launcher.py:9: DeprecationWarning: Call to deprecated `__getitem__` (Method will be removed in 4.0.0, use self.wv.__getitem__() instead).\n",
      "  if __name__ == '__main__':\n",
      "C:\\Users\\HP\\Anaconda3\\lib\\site-packages\\sklearn\\neural_network\\multilayer_perceptron.py:912: DataConversionWarning: A column-vector y was passed when a 1d array was expected. Please change the shape of y to (n_samples, ), for example using ravel().\n",
      "  y = column_or_1d(y, warn=True)\n",
      "C:\\Users\\HP\\Anaconda3\\lib\\site-packages\\ipykernel_launcher.py:22: DeprecationWarning: Call to deprecated `__getitem__` (Method will be removed in 4.0.0, use self.wv.__getitem__() instead).\n"
     ]
    },
    {
     "name": "stdout",
     "output_type": "stream",
     "text": [
      "0.7720167156786875\n"
     ]
    }
   ],
   "source": [
    "from sklearn.neural_network import MLPClassifier\n",
    "from sklearn.metrics import accuracy_score\n",
    "import numpy as np\n",
    "X = []\n",
    "\n",
    "for each in train_tweet_list:\n",
    "    t = np.zeros(100)\n",
    "    for i in each[1:]:\n",
    "        t = t + model[i]\n",
    "    t = t / len(each)\n",
    "    X.append(t)\n",
    "clf = MLPClassifier(solver='adam', alpha=1e-5,hidden_layer_sizes=(100,),warm_start=True, random_state=1)\n",
    "clf.fit(X,train_label_list)\n",
    "'''\n",
    "converting test tweet dataset to word vectors\n",
    "'''\n",
    "test_vector = []\n",
    "for each in test_tweet_list:\n",
    "    t = np.zeros(100)\n",
    "    for i in each[1:]:\n",
    "        if i in vocab:\n",
    "            t = t + model[i]          # after excluding below else statement accuracy in self word vector is 0.7217149048134963\n",
    "        '''\n",
    "        else: \n",
    "            t = t + np.zeros(100)     # after including this else statement our accuracy is 0.7209410308001857\n",
    "        '''\n",
    "        '''\n",
    "            from gensim.models import FastText as ftext\n",
    "            fast_text_wv = ftext(train_tweet_list)                  this code cand be used for words not in vocab\n",
    "            word = (fast_text_wv.most_similar(i))[0][0]             some words are still giving some error\n",
    "            t = t + model[word]\n",
    "        '''\n",
    "            \n",
    "    t = t / len(each)\n",
    "    test_vector.append(t)\n",
    "pred = clf.predict(test_vector)\n",
    "acc = accuracy_score(test_label_list,pred)\n",
    "print(acc)\n"
   ]
  },
  {
   "cell_type": "markdown",
   "metadata": {
    "collapsed": true
   },
   "source": [
    "By taking the word vector of sentences as the average of weighted word vector of word present in sentence as well as Word2Vec vocablury. weighted word vector can be found by multiplying word vector to its Tf-idf score.\n"
   ]
  },
  {
   "cell_type": "code",
   "execution_count": 6,
   "metadata": {
    "collapsed": true
   },
   "outputs": [],
   "source": [
    "from sklearn.feature_extraction.text import TfidfVectorizer\n",
    "vectorizer = TfidfVectorizer(['tweet_dataset.csv'],stop_words=None,analyzer='word')\n",
    "\n",
    "vectorizer1 = TfidfVectorizer(['tweet_dataset.csv'],stop_words=None,analyzer='char')\n",
    "vec = vectorizer.fit_transform(data.iloc[:,2])\n",
    "vec1 = vectorizer1.fit_transform(data.iloc[:,2])\n",
    "v = dict(zip(vectorizer.get_feature_names(),vectorizer.idf_))\n",
    "v1 = dict(zip(vectorizer1.get_feature_names(),vectorizer1.idf_))\n",
    "\n"
   ]
  },
  {
   "cell_type": "code",
   "execution_count": 7,
   "metadata": {},
   "outputs": [
    {
     "name": "stderr",
     "output_type": "stream",
     "text": [
      "C:\\Users\\HP\\Anaconda3\\lib\\site-packages\\ipykernel_launcher.py:8: DeprecationWarning: Call to deprecated `__getitem__` (Method will be removed in 4.0.0, use self.wv.__getitem__() instead).\n",
      "  \n",
      "C:\\Users\\HP\\Anaconda3\\lib\\site-packages\\ipykernel_launcher.py:6: DeprecationWarning: Call to deprecated `__getitem__` (Method will be removed in 4.0.0, use self.wv.__getitem__() instead).\n",
      "  \n",
      "C:\\Users\\HP\\Anaconda3\\lib\\site-packages\\sklearn\\neural_network\\multilayer_perceptron.py:912: DataConversionWarning: A column-vector y was passed when a 1d array was expected. Please change the shape of y to (n_samples, ), for example using ravel().\n",
      "  y = column_or_1d(y, warn=True)\n",
      "C:\\Users\\HP\\Anaconda3\\lib\\site-packages\\ipykernel_launcher.py:24: DeprecationWarning: Call to deprecated `__getitem__` (Method will be removed in 4.0.0, use self.wv.__getitem__() instead).\n",
      "C:\\Users\\HP\\Anaconda3\\lib\\site-packages\\ipykernel_launcher.py:22: DeprecationWarning: Call to deprecated `__getitem__` (Method will be removed in 4.0.0, use self.wv.__getitem__() instead).\n"
     ]
    },
    {
     "name": "stdout",
     "output_type": "stream",
     "text": [
      "0.7611824794923386\n"
     ]
    }
   ],
   "source": [
    "X_tf = []\n",
    "for each in train_tweet_list:\n",
    "    t = np.zeros(100)\n",
    "    for i in each[1:]:\n",
    "        if len(i)==1:\n",
    "            t = t + model[i] * v1[i.lower()]\n",
    "        else:\n",
    "            t = t + model[i] * v[i.lower()]\n",
    "    t = t / len(each)\n",
    "    X_tf.append(t)\n",
    "clf = MLPClassifier(solver='adam', alpha=1e-5,hidden_layer_sizes=(100,), random_state=1)\n",
    "clf.fit(X_tf,train_label_list)\n",
    "'''\n",
    "converting test tweet dataset to word vectors\n",
    "'''\n",
    "test_vector_tf = []\n",
    "for each in test_tweet_list:\n",
    "    t = np.zeros(100)\n",
    "    for i in each[1:]:\n",
    "        if i in vocab:\n",
    "            if len(i)==1:\n",
    "                t = t + model[i] * v1[i.lower()]\n",
    "            else:\n",
    "                t = t + model[i] * v[i.lower()]\n",
    "            \n",
    "    t = t / len(each)\n",
    "    test_vector_tf.append(t)\n",
    "pred = clf.predict(test_vector_tf)\n",
    "acc = accuracy_score(test_label_list,pred)\n",
    "print(acc)"
   ]
  },
  {
   "cell_type": "code",
   "execution_count": 8,
   "metadata": {},
   "outputs": [
    {
     "name": "stdout",
     "output_type": "stream",
     "text": [
      "Word2Vec(vocab=15377, size=200, alpha=0.025)\n"
     ]
    },
    {
     "name": "stderr",
     "output_type": "stream",
     "text": [
      "C:\\Users\\HP\\Anaconda3\\lib\\site-packages\\ipykernel_launcher.py:7: DeprecationWarning: Call to deprecated `__getitem__` (Method will be removed in 4.0.0, use self.wv.__getitem__() instead).\n",
      "  import sys\n"
     ]
    }
   ],
   "source": [
    "'''\n",
    "Self Model with word vector size 200\n",
    "'''\n",
    "model = Word2Vec(train_tweet_list,size = 200,min_count = 1,sg=1)\n",
    "print(model)\n",
    "vocab = model.wv.vocab\n",
    "vocab_vector = model[vocab]\n",
    "model.save('model200')"
   ]
  },
  {
   "cell_type": "code",
   "execution_count": 9,
   "metadata": {},
   "outputs": [
    {
     "name": "stderr",
     "output_type": "stream",
     "text": [
      "C:\\Users\\HP\\Anaconda3\\lib\\site-packages\\ipykernel_launcher.py:6: DeprecationWarning: Call to deprecated `__getitem__` (Method will be removed in 4.0.0, use self.wv.__getitem__() instead).\n",
      "  \n",
      "C:\\Users\\HP\\Anaconda3\\lib\\site-packages\\sklearn\\neural_network\\multilayer_perceptron.py:912: DataConversionWarning: A column-vector y was passed when a 1d array was expected. Please change the shape of y to (n_samples, ), for example using ravel().\n",
      "  y = column_or_1d(y, warn=True)\n",
      "C:\\Users\\HP\\Anaconda3\\lib\\site-packages\\ipykernel_launcher.py:19: DeprecationWarning: Call to deprecated `__getitem__` (Method will be removed in 4.0.0, use self.wv.__getitem__() instead).\n"
     ]
    },
    {
     "name": "stdout",
     "output_type": "stream",
     "text": [
      "0.7707785172573905\n"
     ]
    }
   ],
   "source": [
    "X = []\n",
    "\n",
    "for each in train_tweet_list:\n",
    "    t = np.zeros(200)\n",
    "    for i in each[1:]:\n",
    "        t = t + model[i]\n",
    "    t = t / len(each)\n",
    "    X.append(t)\n",
    "clf = MLPClassifier(solver='adam', alpha=1e-5,hidden_layer_sizes=(100,),warm_start=True, random_state=1)\n",
    "clf.fit(X,train_label_list)\n",
    "'''\n",
    "converting test tweet dataset to word vectors\n",
    "'''\n",
    "test_vector = []\n",
    "for each in test_tweet_list:\n",
    "    t = np.zeros(200)\n",
    "    for i in each[1:]:\n",
    "        if i in vocab:\n",
    "            t = t + model[i]          # after excluding below else statement accuracy in self word vector is 0.7217149048134963\n",
    "            \n",
    "    t = t / len(each)\n",
    "    test_vector.append(t)\n",
    "pred = clf.predict(test_vector)\n",
    "acc = accuracy_score(test_label_list,pred)\n",
    "print(acc)\n"
   ]
  },
  {
   "cell_type": "code",
   "execution_count": 10,
   "metadata": {},
   "outputs": [
    {
     "name": "stderr",
     "output_type": "stream",
     "text": [
      "C:\\Users\\HP\\Anaconda3\\lib\\site-packages\\ipykernel_launcher.py:8: DeprecationWarning: Call to deprecated `__getitem__` (Method will be removed in 4.0.0, use self.wv.__getitem__() instead).\n",
      "  \n",
      "C:\\Users\\HP\\Anaconda3\\lib\\site-packages\\ipykernel_launcher.py:6: DeprecationWarning: Call to deprecated `__getitem__` (Method will be removed in 4.0.0, use self.wv.__getitem__() instead).\n",
      "  \n",
      "C:\\Users\\HP\\Anaconda3\\lib\\site-packages\\sklearn\\neural_network\\multilayer_perceptron.py:912: DataConversionWarning: A column-vector y was passed when a 1d array was expected. Please change the shape of y to (n_samples, ), for example using ravel().\n",
      "  y = column_or_1d(y, warn=True)\n",
      "C:\\Users\\HP\\Anaconda3\\lib\\site-packages\\ipykernel_launcher.py:24: DeprecationWarning: Call to deprecated `__getitem__` (Method will be removed in 4.0.0, use self.wv.__getitem__() instead).\n",
      "C:\\Users\\HP\\Anaconda3\\lib\\site-packages\\ipykernel_launcher.py:22: DeprecationWarning: Call to deprecated `__getitem__` (Method will be removed in 4.0.0, use self.wv.__getitem__() instead).\n"
     ]
    },
    {
     "name": "stdout",
     "output_type": "stream",
     "text": [
      "0.7684568952174586\n"
     ]
    }
   ],
   "source": [
    "X_tf = []\n",
    "for each in train_tweet_list:\n",
    "    t = np.zeros(200)\n",
    "    for i in each[1:]:\n",
    "        if len(i)==1:\n",
    "            t = t + model[i] * v1[i.lower()]\n",
    "        else:\n",
    "            t = t + model[i] * v[i.lower()]\n",
    "    t = t / len(each)\n",
    "    X_tf.append(t)\n",
    "clf = MLPClassifier(solver='adam', alpha=1e-5,hidden_layer_sizes=(100,), random_state=1)\n",
    "clf.fit(X_tf,train_label_list)\n",
    "'''\n",
    "converting test tweet dataset to word vectors\n",
    "'''\n",
    "test_vector_tf = []\n",
    "for each in test_tweet_list:\n",
    "    t = np.zeros(200)\n",
    "    for i in each[1:]:\n",
    "        if i in vocab:\n",
    "            if len(i)==1:\n",
    "                t = t + model[i] * v1[i.lower()]\n",
    "            else:\n",
    "                t = t + model[i] * v[i.lower()]        \n",
    "       \n",
    "    t = t / len(each)\n",
    "    test_vector_tf.append(t)\n",
    "pred = clf.predict(test_vector_tf)\n",
    "acc = accuracy_score(test_label_list,pred)\n",
    "print(acc)"
   ]
  },
  {
   "cell_type": "code",
   "execution_count": 11,
   "metadata": {},
   "outputs": [
    {
     "name": "stdout",
     "output_type": "stream",
     "text": [
      "Word2Vec(vocab=15377, size=300, alpha=0.025)\n"
     ]
    },
    {
     "name": "stderr",
     "output_type": "stream",
     "text": [
      "C:\\Users\\HP\\Anaconda3\\lib\\site-packages\\ipykernel_launcher.py:8: DeprecationWarning: Call to deprecated `__getitem__` (Method will be removed in 4.0.0, use self.wv.__getitem__() instead).\n",
      "  \n"
     ]
    }
   ],
   "source": [
    "'''\n",
    "Self Model with word vector size 300\n",
    "'''\n",
    "from gensim.models import Word2Vec\n",
    "model = Word2Vec(train_tweet_list,size = 300,min_count = 1,sg=1)\n",
    "print(model)\n",
    "vocab = model.wv.vocab\n",
    "vocab_vector = model[vocab]\n",
    "model.save('model300')"
   ]
  },
  {
   "cell_type": "code",
   "execution_count": 12,
   "metadata": {},
   "outputs": [
    {
     "name": "stderr",
     "output_type": "stream",
     "text": [
      "C:\\Users\\HP\\Anaconda3\\lib\\site-packages\\ipykernel_launcher.py:6: DeprecationWarning: Call to deprecated `__getitem__` (Method will be removed in 4.0.0, use self.wv.__getitem__() instead).\n",
      "  \n",
      "C:\\Users\\HP\\Anaconda3\\lib\\site-packages\\sklearn\\neural_network\\multilayer_perceptron.py:912: DataConversionWarning: A column-vector y was passed when a 1d array was expected. Please change the shape of y to (n_samples, ), for example using ravel().\n",
      "  y = column_or_1d(y, warn=True)\n",
      "C:\\Users\\HP\\Anaconda3\\lib\\site-packages\\ipykernel_launcher.py:19: DeprecationWarning: Call to deprecated `__getitem__` (Method will be removed in 4.0.0, use self.wv.__getitem__() instead).\n"
     ]
    },
    {
     "name": "stdout",
     "output_type": "stream",
     "text": [
      "0.7709332920600527\n"
     ]
    }
   ],
   "source": [
    "X = []\n",
    "\n",
    "for each in train_tweet_list:\n",
    "    t = np.zeros(300)\n",
    "    for i in each[1:]:\n",
    "        t = t + model[i]\n",
    "    t = t / len(each)\n",
    "    X.append(t)\n",
    "clf = MLPClassifier(solver='adam', alpha=1e-5,hidden_layer_sizes=(100,),warm_start=True, random_state=1)\n",
    "clf.fit(X,train_label_list)\n",
    "'''\n",
    "converting test tweet dataset to word vectors\n",
    "'''\n",
    "test_vector = []\n",
    "for each in test_tweet_list:\n",
    "    t = np.zeros(300)\n",
    "    for i in each[1:]:\n",
    "        if i in vocab:\n",
    "            t = t + model[i]                  \n",
    "            \n",
    "    t = t / len(each)\n",
    "    test_vector.append(t)\n",
    "pred = clf.predict(test_vector)\n",
    "acc = accuracy_score(test_label_list,pred)\n",
    "print(acc)\n"
   ]
  },
  {
   "cell_type": "code",
   "execution_count": 13,
   "metadata": {},
   "outputs": [
    {
     "name": "stderr",
     "output_type": "stream",
     "text": [
      "C:\\Users\\HP\\Anaconda3\\lib\\site-packages\\ipykernel_launcher.py:8: DeprecationWarning: Call to deprecated `__getitem__` (Method will be removed in 4.0.0, use self.wv.__getitem__() instead).\n",
      "  \n",
      "C:\\Users\\HP\\Anaconda3\\lib\\site-packages\\ipykernel_launcher.py:6: DeprecationWarning: Call to deprecated `__getitem__` (Method will be removed in 4.0.0, use self.wv.__getitem__() instead).\n",
      "  \n",
      "C:\\Users\\HP\\Anaconda3\\lib\\site-packages\\sklearn\\neural_network\\multilayer_perceptron.py:912: DataConversionWarning: A column-vector y was passed when a 1d array was expected. Please change the shape of y to (n_samples, ), for example using ravel().\n",
      "  y = column_or_1d(y, warn=True)\n",
      "C:\\Users\\HP\\Anaconda3\\lib\\site-packages\\ipykernel_launcher.py:24: DeprecationWarning: Call to deprecated `__getitem__` (Method will be removed in 4.0.0, use self.wv.__getitem__() instead).\n",
      "C:\\Users\\HP\\Anaconda3\\lib\\site-packages\\ipykernel_launcher.py:22: DeprecationWarning: Call to deprecated `__getitem__` (Method will be removed in 4.0.0, use self.wv.__getitem__() instead).\n"
     ]
    },
    {
     "name": "stdout",
     "output_type": "stream",
     "text": [
      "0.7704689676520663\n"
     ]
    }
   ],
   "source": [
    "X_tf = []\n",
    "for each in train_tweet_list:\n",
    "    t = np.zeros(300)\n",
    "    for i in each[1:]:\n",
    "        if len(i)==1:\n",
    "            t = t + model[i] * v1[i.lower()]\n",
    "        else:\n",
    "            t = t + model[i] * v[i.lower()]\n",
    "    t = t / len(each)\n",
    "    X_tf.append(t)\n",
    "clf = MLPClassifier(solver='adam', alpha=1e-5,hidden_layer_sizes=(100,), random_state=1)\n",
    "clf.fit(X_tf,train_label_list)\n",
    "'''\n",
    "converting test tweet dataset to word vectors\n",
    "'''\n",
    "test_vector_tf = []\n",
    "for each in test_tweet_list:\n",
    "    t = np.zeros(300)\n",
    "    for i in each[1:]:\n",
    "        if i in vocab:\n",
    "            if len(i)==1:\n",
    "                t = t + model[i] * v1[i.lower()]\n",
    "            else:\n",
    "                t = t + model[i] * v[i.lower()]        \n",
    "            \n",
    "    t = t / len(each)\n",
    "    test_vector_tf.append(t)\n",
    "pred = clf.predict(test_vector_tf)\n",
    "acc = accuracy_score(test_label_list,pred)\n",
    "print(acc)"
   ]
  },
  {
   "cell_type": "markdown",
   "metadata": {},
   "source": [
    "# the accuracy of Neural Network by using Tfidf Vectorizer is 0.6935458907289893"
   ]
  },
  {
   "cell_type": "markdown",
   "metadata": {},
   "source": [
    "# Classification using Google word vector"
   ]
  },
  {
   "cell_type": "code",
   "execution_count": 14,
   "metadata": {},
   "outputs": [],
   "source": [
    "from gensim.models import KeyedVectors\n",
    "model = KeyedVectors.load_word2vec_format(\"GoogleNews-vectors-negative300.bin\",binary=True)"
   ]
  },
  {
   "cell_type": "code",
   "execution_count": 15,
   "metadata": {},
   "outputs": [
    {
     "name": "stderr",
     "output_type": "stream",
     "text": [
      "C:\\Users\\HP\\Anaconda3\\lib\\site-packages\\ipykernel_launcher.py:6: DeprecationWarning: Call to deprecated `wv` (Attribute will be removed in 4.0.0, use self instead).\n",
      "  \n",
      "C:\\Users\\HP\\Anaconda3\\lib\\site-packages\\sklearn\\neural_network\\multilayer_perceptron.py:912: DataConversionWarning: A column-vector y was passed when a 1d array was expected. Please change the shape of y to (n_samples, ), for example using ravel().\n",
      "  y = column_or_1d(y, warn=True)\n",
      "C:\\Users\\HP\\Anaconda3\\lib\\site-packages\\sklearn\\neural_network\\multilayer_perceptron.py:564: ConvergenceWarning: Stochastic Optimizer: Maximum iterations (200) reached and the optimization hasn't converged yet.\n",
      "  % self.max_iter, ConvergenceWarning)\n",
      "C:\\Users\\HP\\Anaconda3\\lib\\site-packages\\ipykernel_launcher.py:21: DeprecationWarning: Call to deprecated `wv` (Attribute will be removed in 4.0.0, use self instead).\n"
     ]
    },
    {
     "name": "stdout",
     "output_type": "stream",
     "text": [
      "['none' 'none' 'none' ... 'sexism' 'sexism' 'none']\n",
      "0.7902801423928184\n"
     ]
    }
   ],
   "source": [
    "X = []\n",
    "\n",
    "for each in train_tweet_list:\n",
    "    t = np.zeros(300)\n",
    "    for i in each[1:]:\n",
    "        if i in model.wv.vocab:\n",
    "            t = t + model[i]\n",
    "    t = t / len(each)\n",
    "    X.append(t)\n",
    "#X = np.asarray(X)\n",
    "#print(len(train_label_list))\n",
    "clf = MLPClassifier(solver='adam', alpha=1e-5,hidden_layer_sizes=(100,),warm_start=True, random_state=1)\n",
    "clf.fit(X,train_label_list)\n",
    "'''\n",
    "converting test tweet dataset to word vectors\n",
    "'''\n",
    "test_vector = []\n",
    "for each in test_tweet_list:\n",
    "    t = np.zeros(300)\n",
    "    for i in each[1:]:\n",
    "        if i in model.wv.vocab:\n",
    "            t = t + model[i]          \n",
    "    t = t / len(each)\n",
    "    test_vector.append(t)\n",
    "pred = clf.predict(test_vector)\n",
    "print(pred)\n",
    "acc = accuracy_score(test_label_list,pred)\n",
    "print(acc)"
   ]
  },
  {
   "cell_type": "code",
   "execution_count": 16,
   "metadata": {},
   "outputs": [
    {
     "name": "stderr",
     "output_type": "stream",
     "text": [
      "C:\\Users\\HP\\Anaconda3\\lib\\site-packages\\ipykernel_launcher.py:5: DeprecationWarning: Call to deprecated `wv` (Attribute will be removed in 4.0.0, use self instead).\n",
      "  \"\"\"\n",
      "C:\\Users\\HP\\Anaconda3\\lib\\site-packages\\sklearn\\neural_network\\multilayer_perceptron.py:912: DataConversionWarning: A column-vector y was passed when a 1d array was expected. Please change the shape of y to (n_samples, ), for example using ravel().\n",
      "  y = column_or_1d(y, warn=True)\n",
      "C:\\Users\\HP\\Anaconda3\\lib\\site-packages\\ipykernel_launcher.py:21: DeprecationWarning: Call to deprecated `wv` (Attribute will be removed in 4.0.0, use self instead).\n"
     ]
    },
    {
     "name": "stdout",
     "output_type": "stream",
     "text": [
      "0.7853273487076304\n"
     ]
    }
   ],
   "source": [
    "X_tf = []\n",
    "for each in train_tweet_list:\n",
    "    t = np.zeros(300)\n",
    "    for i in each[1:]:\n",
    "        if i in model.wv.vocab:\n",
    "            if len(i)==1:\n",
    "                t = t + model[i] * v1[i.lower()]\n",
    "            else:\n",
    "                t = t + model[i] * v[i.lower()]\n",
    "    t = t / len(each)\n",
    "    X_tf.append(t)\n",
    "clf = MLPClassifier(solver='adam', alpha=1e-5,hidden_layer_sizes=(100,), random_state=1)\n",
    "clf.fit(X_tf,train_label_list)\n",
    "'''\n",
    "converting test tweet dataset to word vectors\n",
    "'''\n",
    "test_vector_tf = []\n",
    "for each in test_tweet_list:\n",
    "    t = np.zeros(300)\n",
    "    for i in each[1:]:\n",
    "        if i in model.wv.vocab:\n",
    "            if len(i)==1:\n",
    "                t = t + model[i] * v1[i.lower()]\n",
    "            else:\n",
    "                t = t + model[i] * v[i.lower()]           \n",
    "       \n",
    "            \n",
    "    t = t / len(each)\n",
    "    test_vector_tf.append(t)\n",
    "pred = clf.predict(test_vector_tf)\n",
    "acc = accuracy_score(test_label_list,pred)\n",
    "print(acc)"
   ]
  },
  {
   "cell_type": "markdown",
   "metadata": {},
   "source": [
    "# Classification Using Stanford word vector"
   ]
  },
  {
   "cell_type": "code",
   "execution_count": 17,
   "metadata": {
    "collapsed": true
   },
   "outputs": [],
   "source": [
    "'''\n",
    "Model with word vector dimension 300\n",
    "'''\n",
    "\n",
    "from gensim.scripts.glove2word2vec import glove2word2vec\n",
    "glove2word2vec(\"glove.6B.300d.txt\",\"glove.300d.txt\")\n",
    "model = KeyedVectors.load_word2vec_format(\"glove.300d.txt\",binary=False)"
   ]
  },
  {
   "cell_type": "code",
   "execution_count": 18,
   "metadata": {},
   "outputs": [
    {
     "name": "stderr",
     "output_type": "stream",
     "text": [
      "C:\\Users\\HP\\Anaconda3\\lib\\site-packages\\ipykernel_launcher.py:6: DeprecationWarning: Call to deprecated `wv` (Attribute will be removed in 4.0.0, use self instead).\n",
      "  \n",
      "C:\\Users\\HP\\Anaconda3\\lib\\site-packages\\sklearn\\neural_network\\multilayer_perceptron.py:912: DataConversionWarning: A column-vector y was passed when a 1d array was expected. Please change the shape of y to (n_samples, ), for example using ravel().\n",
      "  y = column_or_1d(y, warn=True)\n",
      "C:\\Users\\HP\\Anaconda3\\lib\\site-packages\\ipykernel_launcher.py:19: DeprecationWarning: Call to deprecated `wv` (Attribute will be removed in 4.0.0, use self instead).\n"
     ]
    },
    {
     "name": "stdout",
     "output_type": "stream",
     "text": [
      "['none' 'none' 'none' ... 'sexism' 'sexism' 'none']\n",
      "0.7449311252128153\n"
     ]
    }
   ],
   "source": [
    "X = []\n",
    "\n",
    "for each in train_tweet_list:\n",
    "    t = np.zeros(300)\n",
    "    for i in each[1:]:\n",
    "        if i in model.wv.vocab:\n",
    "            t = t + model[i]\n",
    "    t = t / len(each)\n",
    "    X.append(t)\n",
    "clf = MLPClassifier(solver='adam', alpha=1e-5,hidden_layer_sizes=(100,),warm_start=True, random_state=1)\n",
    "clf.fit(X,train_label_list)\n",
    "'''\n",
    "converting test tweet dataset to word vectors\n",
    "'''\n",
    "test_vector = []\n",
    "for each in test_tweet_list:\n",
    "    t = np.zeros(300)\n",
    "    for i in each[1:]:\n",
    "        if i in model.wv.vocab:\n",
    "            t = t + model[i]          \n",
    "        \n",
    "            \n",
    "    t = t / len(each)\n",
    "    test_vector.append(t)\n",
    "pred = clf.predict(test_vector)\n",
    "print(pred)\n",
    "acc = accuracy_score(test_label_list,pred)\n",
    "print(acc)"
   ]
  },
  {
   "cell_type": "code",
   "execution_count": 19,
   "metadata": {},
   "outputs": [
    {
     "name": "stderr",
     "output_type": "stream",
     "text": [
      "C:\\Users\\HP\\Anaconda3\\lib\\site-packages\\ipykernel_launcher.py:5: DeprecationWarning: Call to deprecated `wv` (Attribute will be removed in 4.0.0, use self instead).\n",
      "  \"\"\"\n",
      "C:\\Users\\HP\\Anaconda3\\lib\\site-packages\\sklearn\\neural_network\\multilayer_perceptron.py:912: DataConversionWarning: A column-vector y was passed when a 1d array was expected. Please change the shape of y to (n_samples, ), for example using ravel().\n",
      "  y = column_or_1d(y, warn=True)\n",
      "C:\\Users\\HP\\Anaconda3\\lib\\site-packages\\ipykernel_launcher.py:21: DeprecationWarning: Call to deprecated `wv` (Attribute will be removed in 4.0.0, use self instead).\n"
     ]
    },
    {
     "name": "stdout",
     "output_type": "stream",
     "text": [
      "0.7320848165918589\n"
     ]
    }
   ],
   "source": [
    "X_tf = []\n",
    "for each in train_tweet_list:\n",
    "    t = np.zeros(300)\n",
    "    for i in each[1:]:\n",
    "        if i in model.wv.vocab:\n",
    "            if len(i)==1:\n",
    "                t = t + model[i] * v1[i.lower()]\n",
    "            else:\n",
    "                t = t + model[i] * v[i.lower()]\n",
    "    t = t / len(each)\n",
    "    X_tf.append(t)\n",
    "clf = MLPClassifier(solver='adam', alpha=1e-5,hidden_layer_sizes=(100,), random_state=1)\n",
    "clf.fit(X_tf,train_label_list)\n",
    "'''\n",
    "converting test tweet dataset to word vectors\n",
    "'''\n",
    "test_vector_tf = []\n",
    "for each in test_tweet_list:\n",
    "    t = np.zeros(300)\n",
    "    for i in each[1:]:\n",
    "        if i in model.wv.vocab:\n",
    "            if len(i)==1:\n",
    "                t = t + model[i] * v1[i.lower()]\n",
    "            else:\n",
    "                t = t + model[i] * v[i.lower()]           \n",
    "       \n",
    "            \n",
    "    t = t / len(each)\n",
    "    test_vector_tf.append(t)\n",
    "pred = clf.predict(test_vector_tf)\n",
    "acc = accuracy_score(test_label_list,pred)\n",
    "print(acc)"
   ]
  },
  {
   "cell_type": "code",
   "execution_count": 20,
   "metadata": {
    "collapsed": true
   },
   "outputs": [],
   "source": [
    "'''\n",
    "Model with word vector dimension 200\n",
    "'''\n",
    "\n",
    "glove2word2vec(\"glove.6B.200d.txt\",\"glove.200d.txt\")\n",
    "model = KeyedVectors.load_word2vec_format(\"glove.200d.txt\",binary=False)"
   ]
  },
  {
   "cell_type": "code",
   "execution_count": 21,
   "metadata": {},
   "outputs": [
    {
     "name": "stderr",
     "output_type": "stream",
     "text": [
      "C:\\Users\\HP\\Anaconda3\\lib\\site-packages\\ipykernel_launcher.py:6: DeprecationWarning: Call to deprecated `wv` (Attribute will be removed in 4.0.0, use self instead).\n",
      "  \n",
      "C:\\Users\\HP\\Anaconda3\\lib\\site-packages\\sklearn\\neural_network\\multilayer_perceptron.py:912: DataConversionWarning: A column-vector y was passed when a 1d array was expected. Please change the shape of y to (n_samples, ), for example using ravel().\n",
      "  y = column_or_1d(y, warn=True)\n",
      "C:\\Users\\HP\\Anaconda3\\lib\\site-packages\\sklearn\\neural_network\\multilayer_perceptron.py:564: ConvergenceWarning: Stochastic Optimizer: Maximum iterations (200) reached and the optimization hasn't converged yet.\n",
      "  % self.max_iter, ConvergenceWarning)\n",
      "C:\\Users\\HP\\Anaconda3\\lib\\site-packages\\ipykernel_launcher.py:21: DeprecationWarning: Call to deprecated `wv` (Attribute will be removed in 4.0.0, use self instead).\n"
     ]
    },
    {
     "name": "stdout",
     "output_type": "stream",
     "text": [
      "['none' 'none' 'none' ... 'sexism' 'sexism' 'none']\n",
      "0.7422999535675592\n"
     ]
    }
   ],
   "source": [
    "X = []\n",
    "\n",
    "for each in train_tweet_list:\n",
    "    t = np.zeros(200)\n",
    "    for i in each[1:]:\n",
    "        if i in model.wv.vocab:\n",
    "            t = t + model[i]\n",
    "    t = t / len(each)\n",
    "    X.append(t)\n",
    "#X = np.asarray(X)\n",
    "#print(len(train_label_list))\n",
    "clf = MLPClassifier(solver='adam', alpha=1e-5,hidden_layer_sizes=(100,),warm_start=True, random_state=1)\n",
    "clf.fit(X,train_label_list)\n",
    "'''\n",
    "converting test tweet dataset to word vectors\n",
    "'''\n",
    "test_vector = []\n",
    "for each in test_tweet_list:\n",
    "    t = np.zeros(200)\n",
    "    for i in each[1:]:\n",
    "        if i in model.wv.vocab:\n",
    "            t = t + model[i]          \n",
    "        \n",
    "            \n",
    "    t = t / len(each)\n",
    "    test_vector.append(t)\n",
    "pred = clf.predict(test_vector)\n",
    "print(pred)\n",
    "acc = accuracy_score(test_label_list,pred)\n",
    "print(acc)"
   ]
  },
  {
   "cell_type": "code",
   "execution_count": 22,
   "metadata": {},
   "outputs": [
    {
     "name": "stderr",
     "output_type": "stream",
     "text": [
      "C:\\Users\\HP\\Anaconda3\\lib\\site-packages\\ipykernel_launcher.py:5: DeprecationWarning: Call to deprecated `wv` (Attribute will be removed in 4.0.0, use self instead).\n",
      "  \"\"\"\n",
      "C:\\Users\\HP\\Anaconda3\\lib\\site-packages\\sklearn\\neural_network\\multilayer_perceptron.py:912: DataConversionWarning: A column-vector y was passed when a 1d array was expected. Please change the shape of y to (n_samples, ), for example using ravel().\n",
      "  y = column_or_1d(y, warn=True)\n",
      "C:\\Users\\HP\\Anaconda3\\lib\\site-packages\\ipykernel_launcher.py:21: DeprecationWarning: Call to deprecated `wv` (Attribute will be removed in 4.0.0, use self instead).\n"
     ]
    },
    {
     "name": "stdout",
     "output_type": "stream",
     "text": [
      "0.7282154465253057\n"
     ]
    }
   ],
   "source": [
    "X_tf = []\n",
    "for each in train_tweet_list:\n",
    "    t = np.zeros(200)\n",
    "    for i in each[1:]:\n",
    "        if i in model.wv.vocab:\n",
    "            if len(i)==1:\n",
    "                t = t + model[i] * v1[i.lower()]\n",
    "            else:\n",
    "                t = t + model[i] * v[i.lower()]\n",
    "    t = t / len(each)\n",
    "    X_tf.append(t)\n",
    "clf = MLPClassifier(solver='adam', alpha=1e-5,hidden_layer_sizes=(100,), random_state=1)\n",
    "clf.fit(X_tf,train_label_list)\n",
    "'''\n",
    "converting test tweet dataset to word vectors\n",
    "'''\n",
    "test_vector_tf = []\n",
    "for each in test_tweet_list:\n",
    "    t = np.zeros(200)\n",
    "    for i in each[1:]:\n",
    "        if i in model.wv.vocab:\n",
    "            if len(i)==1:\n",
    "                t = t + model[i] * v1[i.lower()]\n",
    "            else:\n",
    "                t = t + model[i] * v[i.lower()]           \n",
    "       \n",
    "            \n",
    "    t = t / len(each)\n",
    "    test_vector_tf.append(t)\n",
    "pred = clf.predict(test_vector_tf)\n",
    "acc = accuracy_score(test_label_list,pred)\n",
    "print(acc)"
   ]
  },
  {
   "cell_type": "code",
   "execution_count": 23,
   "metadata": {
    "collapsed": true
   },
   "outputs": [],
   "source": [
    "'''\n",
    "Model with word vector dimension 100\n",
    "'''\n",
    "\n",
    "glove2word2vec(\"glove.6B.100d.txt\",\"glove.100d.txt\")\n",
    "model = KeyedVectors.load_word2vec_format(\"glove.100d.txt\",binary=False)"
   ]
  },
  {
   "cell_type": "code",
   "execution_count": 24,
   "metadata": {},
   "outputs": [
    {
     "name": "stderr",
     "output_type": "stream",
     "text": [
      "C:\\Users\\HP\\Anaconda3\\lib\\site-packages\\ipykernel_launcher.py:6: DeprecationWarning: Call to deprecated `wv` (Attribute will be removed in 4.0.0, use self instead).\n",
      "  \n",
      "C:\\Users\\HP\\Anaconda3\\lib\\site-packages\\sklearn\\neural_network\\multilayer_perceptron.py:912: DataConversionWarning: A column-vector y was passed when a 1d array was expected. Please change the shape of y to (n_samples, ), for example using ravel().\n",
      "  y = column_or_1d(y, warn=True)\n",
      "C:\\Users\\HP\\Anaconda3\\lib\\site-packages\\ipykernel_launcher.py:19: DeprecationWarning: Call to deprecated `wv` (Attribute will be removed in 4.0.0, use self instead).\n"
     ]
    },
    {
     "name": "stdout",
     "output_type": "stream",
     "text": [
      "['none' 'none' 'none' ... 'sexism' 'sexism' 'none']\n",
      "0.7576226590311097\n"
     ]
    }
   ],
   "source": [
    "X = []\n",
    "\n",
    "for each in train_tweet_list:\n",
    "    t = np.zeros(100)\n",
    "    for i in each[1:]:\n",
    "        if i in model.wv.vocab:\n",
    "            t = t + model[i]\n",
    "    t = t / len(each)\n",
    "    X.append(t)\n",
    "clf = MLPClassifier(solver='adam', alpha=1e-5,hidden_layer_sizes=(100,),warm_start=True, random_state=1)\n",
    "clf.fit(X,train_label_list)\n",
    "'''\n",
    "converting test tweet dataset to word vectors\n",
    "'''\n",
    "test_vector = []\n",
    "for each in test_tweet_list:\n",
    "    t = np.zeros(100)\n",
    "    for i in each[1:]:\n",
    "        if i in model.wv.vocab:\n",
    "            t = t + model[i]          \n",
    "        \n",
    "            \n",
    "    t = t / len(each)\n",
    "    test_vector.append(t)\n",
    "pred = clf.predict(test_vector)\n",
    "print(pred)\n",
    "acc = accuracy_score(test_label_list,pred)\n",
    "print(acc)"
   ]
  },
  {
   "cell_type": "code",
   "execution_count": 25,
   "metadata": {},
   "outputs": [
    {
     "name": "stderr",
     "output_type": "stream",
     "text": [
      "C:\\Users\\HP\\Anaconda3\\lib\\site-packages\\ipykernel_launcher.py:5: DeprecationWarning: Call to deprecated `wv` (Attribute will be removed in 4.0.0, use self instead).\n",
      "  \"\"\"\n",
      "C:\\Users\\HP\\Anaconda3\\lib\\site-packages\\sklearn\\neural_network\\multilayer_perceptron.py:912: DataConversionWarning: A column-vector y was passed when a 1d array was expected. Please change the shape of y to (n_samples, ), for example using ravel().\n",
      "  y = column_or_1d(y, warn=True)\n",
      "C:\\Users\\HP\\Anaconda3\\lib\\site-packages\\ipykernel_launcher.py:21: DeprecationWarning: Call to deprecated `wv` (Attribute will be removed in 4.0.0, use self instead).\n"
     ]
    },
    {
     "name": "stdout",
     "output_type": "stream",
     "text": [
      "0.7138213898777279\n"
     ]
    }
   ],
   "source": [
    "X_tf = []\n",
    "for each in train_tweet_list:\n",
    "    t = np.zeros(100)\n",
    "    for i in each[1:]:\n",
    "        if i in model.wv.vocab:\n",
    "            if len(i)==1:\n",
    "                t = t + model[i] * v1[i.lower()]\n",
    "            else:\n",
    "                t = t + model[i] * v[i.lower()]\n",
    "    t = t / len(each)\n",
    "    X_tf.append(t)\n",
    "clf = MLPClassifier(solver='adam', alpha=1e-5,hidden_layer_sizes=(100,), random_state=1)\n",
    "clf.fit(X_tf,train_label_list)\n",
    "'''\n",
    "converting test tweet dataset to word vectors\n",
    "'''\n",
    "test_vector_tf = []\n",
    "for each in test_tweet_list:\n",
    "    t = np.zeros(100)\n",
    "    for i in each[1:]:\n",
    "        if i in model.wv.vocab:\n",
    "            if len(i)==1:\n",
    "                t = t + model[i] * v1[i.lower()]\n",
    "            else:\n",
    "                t = t + model[i] * v[i.lower()]           \n",
    "       \n",
    "            \n",
    "    t = t / len(each)\n",
    "    test_vector_tf.append(t)\n",
    "pred = clf.predict(test_vector_tf)\n",
    "acc = accuracy_score(test_label_list,pred)\n",
    "print(acc)"
   ]
  },
  {
   "cell_type": "code",
   "execution_count": 26,
   "metadata": {
    "collapsed": true
   },
   "outputs": [],
   "source": [
    "'''\n",
    "Model with word vector dimension 50\n",
    "'''\n",
    "glove2word2vec(\"glove.6B.50d.txt\",\"glove.50d.txt\")\n",
    "model = KeyedVectors.load_word2vec_format(\"glove.50d.txt\",binary=False)"
   ]
  },
  {
   "cell_type": "code",
   "execution_count": 27,
   "metadata": {},
   "outputs": [
    {
     "name": "stderr",
     "output_type": "stream",
     "text": [
      "C:\\Users\\HP\\Anaconda3\\lib\\site-packages\\ipykernel_launcher.py:6: DeprecationWarning: Call to deprecated `wv` (Attribute will be removed in 4.0.0, use self instead).\n",
      "  \n",
      "C:\\Users\\HP\\Anaconda3\\lib\\site-packages\\sklearn\\neural_network\\multilayer_perceptron.py:912: DataConversionWarning: A column-vector y was passed when a 1d array was expected. Please change the shape of y to (n_samples, ), for example using ravel().\n",
      "  y = column_or_1d(y, warn=True)\n",
      "C:\\Users\\HP\\Anaconda3\\lib\\site-packages\\ipykernel_launcher.py:19: DeprecationWarning: Call to deprecated `wv` (Attribute will be removed in 4.0.0, use self instead).\n"
     ]
    },
    {
     "name": "stdout",
     "output_type": "stream",
     "text": [
      "['none' 'none' 'none' ... 'sexism' 'sexism' 'none']\n",
      "0.7585513078470825\n"
     ]
    }
   ],
   "source": [
    "X = []\n",
    "\n",
    "for each in train_tweet_list:\n",
    "    t = np.zeros(50)\n",
    "    for i in each[1:]:\n",
    "        if i in model.wv.vocab:\n",
    "            t = t + model[i]\n",
    "    t = t / len(each)\n",
    "    X.append(t)\n",
    "clf = MLPClassifier(solver='adam', alpha=1e-5,hidden_layer_sizes=(100,),warm_start=True, random_state=1)\n",
    "clf.fit(X,train_label_list)\n",
    "'''\n",
    "converting test tweet dataset to word vectors\n",
    "'''\n",
    "test_vector = []\n",
    "for each in test_tweet_list:\n",
    "    t = np.zeros(50)\n",
    "    for i in each[1:]:\n",
    "        if i in model.wv.vocab:\n",
    "            t = t + model[i]          \n",
    "        \n",
    "            \n",
    "    t = t / len(each)\n",
    "    test_vector.append(t)\n",
    "pred = clf.predict(test_vector)\n",
    "print(pred)\n",
    "acc = accuracy_score(test_label_list,pred)\n",
    "print(acc)"
   ]
  },
  {
   "cell_type": "code",
   "execution_count": 28,
   "metadata": {},
   "outputs": [
    {
     "name": "stderr",
     "output_type": "stream",
     "text": [
      "C:\\Users\\HP\\Anaconda3\\lib\\site-packages\\ipykernel_launcher.py:5: DeprecationWarning: Call to deprecated `wv` (Attribute will be removed in 4.0.0, use self instead).\n",
      "  \"\"\"\n",
      "C:\\Users\\HP\\Anaconda3\\lib\\site-packages\\sklearn\\neural_network\\multilayer_perceptron.py:912: DataConversionWarning: A column-vector y was passed when a 1d array was expected. Please change the shape of y to (n_samples, ), for example using ravel().\n",
      "  y = column_or_1d(y, warn=True)\n",
      "C:\\Users\\HP\\Anaconda3\\lib\\site-packages\\ipykernel_launcher.py:21: DeprecationWarning: Call to deprecated `wv` (Attribute will be removed in 4.0.0, use self instead).\n"
     ]
    },
    {
     "name": "stdout",
     "output_type": "stream",
     "text": [
      "0.7272867977093329\n"
     ]
    }
   ],
   "source": [
    "X_tf = []\n",
    "for each in train_tweet_list:\n",
    "    t = np.zeros(50)\n",
    "    for i in each[1:]:\n",
    "        if i in model.wv.vocab:\n",
    "            if len(i)==1:\n",
    "                t = t + model[i] * v1[i.lower()]\n",
    "            else:\n",
    "                t = t + model[i] * v[i.lower()]\n",
    "    t = t / len(each)\n",
    "    X_tf.append(t)\n",
    "clf = MLPClassifier(solver='adam', alpha=1e-5,hidden_layer_sizes=(100,), random_state=1)\n",
    "clf.fit(X_tf,train_label_list)\n",
    "'''\n",
    "converting test tweet dataset to word vectors\n",
    "'''\n",
    "test_vector_tf = []\n",
    "for each in test_tweet_list:\n",
    "    t = np.zeros(50)\n",
    "    for i in each[1:]:\n",
    "        if i in model.wv.vocab:\n",
    "            if len(i)==1:\n",
    "                t = t + model[i] * v1[i.lower()]\n",
    "            else:\n",
    "                t = t + model[i] * v[i.lower()]           \n",
    "       \n",
    "            \n",
    "    t = t / len(each)\n",
    "    test_vector_tf.append(t)\n",
    "pred = clf.predict(test_vector_tf)\n",
    "acc = accuracy_score(test_label_list,pred)\n",
    "print(acc)"
   ]
  }
 ],
 "metadata": {
  "kernelspec": {
   "display_name": "Python 3",
   "language": "python",
   "name": "python3"
  },
  "language_info": {
   "codemirror_mode": {
    "name": "ipython",
    "version": 3
   },
   "file_extension": ".py",
   "mimetype": "text/x-python",
   "name": "python",
   "nbconvert_exporter": "python",
   "pygments_lexer": "ipython3",
   "version": "3.6.3"
  }
 },
 "nbformat": 4,
 "nbformat_minor": 2
}

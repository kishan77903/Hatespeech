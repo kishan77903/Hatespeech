{
 "cells": [
  {
   "cell_type": "code",
   "execution_count": 1,
   "metadata": {},
   "outputs": [],
   "source": [
    "import pandas as pd\n",
    "data = pd.read_csv(\"data_folder/tweet_dataset.csv\")\n",
    "tweet_list = []\n",
    "label_list = []\n",
    "for each in list(data.iloc[:,2]):\n",
    "    tweet_list.append(each.split())\n",
    "for each in list(data.iloc[:,1]):\n",
    "    label_list.append(each.split())\n",
    "dataset_len = len(tweet_list)\n",
    "train_tweet_list = tweet_list[:dataset_len*6//10]\n",
    "test_tweet_list = tweet_list[dataset_len*6//10:]\n",
    "train_label_list = label_list[:dataset_len*6//10]\n",
    "test_label_list = label_list[dataset_len*6//10:]\n"
   ]
  },
  {
   "cell_type": "markdown",
   "metadata": {},
   "source": [
    "# Classification using SVM"
   ]
  },
  {
   "cell_type": "code",
   "execution_count": 4,
   "metadata": {},
   "outputs": [],
   "source": [
    "'''\n",
    "Self Trained word vector of 100 length\n",
    "'''\n",
    "from gensim.models import Word2Vec\n",
    "model = Word2Vec.load('model100')\n",
    "vocab = model.wv.vocab"
   ]
  },
  {
   "cell_type": "code",
   "execution_count": 5,
   "metadata": {},
   "outputs": [
    {
     "name": "stderr",
     "output_type": "stream",
     "text": [
      "C:\\Users\\HP\\Anaconda3\\lib\\site-packages\\ipykernel_launcher.py:9: DeprecationWarning: Call to deprecated `__getitem__` (Method will be removed in 4.0.0, use self.wv.__getitem__() instead).\n",
      "  if __name__ == '__main__':\n",
      "C:\\Users\\HP\\Anaconda3\\lib\\site-packages\\ipykernel_launcher.py:18: DeprecationWarning: Call to deprecated `__getitem__` (Method will be removed in 4.0.0, use self.wv.__getitem__() instead).\n",
      "C:\\Users\\HP\\Anaconda3\\lib\\site-packages\\sklearn\\utils\\validation.py:578: DataConversionWarning: A column-vector y was passed when a 1d array was expected. Please change the shape of y to (n_samples, ), for example using ravel().\n",
      "  y = column_or_1d(y, warn=True)\n"
     ]
    },
    {
     "name": "stdout",
     "output_type": "stream",
     "text": [
      "[0.85144999 0.51602024 0.41426783]\n",
      "0.7665995975855131\n"
     ]
    },
    {
     "data": {
      "text/plain": [
       "array(['none', 'none', 'none', ..., 'sexism', 'sexism', 'none'],\n",
       "      dtype='<U6')"
      ]
     },
     "execution_count": 5,
     "metadata": {},
     "output_type": "execute_result"
    }
   ],
   "source": [
    "from sklearn.svm import SVC\n",
    "from sklearn.metrics import accuracy_score\n",
    "from sklearn.metrics import f1_score\n",
    "import numpy as np\n",
    "X = []\n",
    "for each in train_tweet_list:\n",
    "    t = np.zeros(100)\n",
    "    for i in each[1:]:\n",
    "        t = t + model[i]\n",
    "    t = t / len(each)\n",
    "    X.append(t)\n",
    "    \n",
    "test_vector = []\n",
    "for each in test_tweet_list:\n",
    "    t = np.zeros(100)\n",
    "    for i in each[1:]:\n",
    "        if i in vocab:\n",
    "            t = t + model[i]                    \n",
    "    t = t / len(each)\n",
    "    test_vector.append(t)\n",
    "    \n",
    "clf = SVC(kernel='linear')\n",
    "clf.fit(X,train_label_list)\n",
    "pred = clf.predict(test_vector)\n",
    "acc = accuracy_score(test_label_list,pred)\n",
    "f1 = f1_score(test_label_list,pred,average=None)\n",
    "print(f1)\n",
    "print(acc)\n",
    "pred"
   ]
  },
  {
   "cell_type": "code",
   "execution_count": 6,
   "metadata": {},
   "outputs": [],
   "source": [
    "from sklearn.feature_extraction.text import TfidfVectorizer\n",
    "vectorizer = TfidfVectorizer(['tweet_dataset.csv'],stop_words=None,analyzer='word')\n",
    "\n",
    "vectorizer1 = TfidfVectorizer(['tweet_dataset.csv'],stop_words=None,analyzer='char')\n",
    "vec = vectorizer.fit_transform(data.iloc[:,2])\n",
    "vec1 = vectorizer1.fit_transform(data.iloc[:,2])\n",
    "v = dict(zip(vectorizer.get_feature_names(),vectorizer.idf_))\n",
    "v1 = dict(zip(vectorizer1.get_feature_names(),vectorizer1.idf_))\n",
    "\n"
   ]
  },
  {
   "cell_type": "code",
   "execution_count": 7,
   "metadata": {},
   "outputs": [
    {
     "name": "stderr",
     "output_type": "stream",
     "text": [
      "C:\\Users\\HP\\Anaconda3\\lib\\site-packages\\ipykernel_launcher.py:8: DeprecationWarning: Call to deprecated `__getitem__` (Method will be removed in 4.0.0, use self.wv.__getitem__() instead).\n",
      "  \n",
      "C:\\Users\\HP\\Anaconda3\\lib\\site-packages\\ipykernel_launcher.py:6: DeprecationWarning: Call to deprecated `__getitem__` (Method will be removed in 4.0.0, use self.wv.__getitem__() instead).\n",
      "  \n",
      "C:\\Users\\HP\\Anaconda3\\lib\\site-packages\\ipykernel_launcher.py:22: DeprecationWarning: Call to deprecated `__getitem__` (Method will be removed in 4.0.0, use self.wv.__getitem__() instead).\n",
      "C:\\Users\\HP\\Anaconda3\\lib\\site-packages\\ipykernel_launcher.py:20: DeprecationWarning: Call to deprecated `__getitem__` (Method will be removed in 4.0.0, use self.wv.__getitem__() instead).\n",
      "C:\\Users\\HP\\Anaconda3\\lib\\site-packages\\sklearn\\utils\\validation.py:578: DataConversionWarning: A column-vector y was passed when a 1d array was expected. Please change the shape of y to (n_samples, ), for example using ravel().\n",
      "  y = column_or_1d(y, warn=True)\n"
     ]
    },
    {
     "name": "stdout",
     "output_type": "stream",
     "text": [
      "[0.85504514 0.54651163 0.438072  ]\n",
      "0.7734096889026466\n"
     ]
    },
    {
     "data": {
      "text/plain": [
       "array(['none', 'none', 'none', ..., 'sexism', 'sexism', 'none'],\n",
       "      dtype='<U6')"
      ]
     },
     "execution_count": 7,
     "metadata": {},
     "output_type": "execute_result"
    }
   ],
   "source": [
    "X_tf = []\n",
    "for each in train_tweet_list:\n",
    "    t = np.zeros(100)\n",
    "    for i in each[1:]:\n",
    "        if len(i)==1:\n",
    "            t = t + model[i] * v1[i.lower()]\n",
    "        else:\n",
    "            t = t + model[i] * v[i.lower()]\n",
    "    t = t / len(each)\n",
    "    X_tf.append(t)\n",
    "'''\n",
    "converting test tweet dataset to word vectors\n",
    "'''\n",
    "test_vector_tf = []\n",
    "for each in test_tweet_list:\n",
    "    t = np.zeros(100)\n",
    "    for i in each[1:]:\n",
    "        if i in vocab:\n",
    "            if len(i)==1:\n",
    "                t = t + model[i] * v1[i.lower()]\n",
    "            else:\n",
    "                t = t + model[i] * v[i.lower()]      \n",
    "    t = t / len(each)\n",
    "    test_vector_tf.append(t)\n",
    "clf = SVC(kernel='linear')\n",
    "clf.fit(X_tf,train_label_list)\n",
    "pred = clf.predict(test_vector_tf)\n",
    "acc = accuracy_score(test_label_list,pred)\n",
    "f1 = f1_score(test_label_list,pred,average=None)\n",
    "print(f1)\n",
    "print(acc)\n",
    "pred"
   ]
  },
  {
   "cell_type": "code",
   "execution_count": 8,
   "metadata": {},
   "outputs": [],
   "source": [
    "'''\n",
    "Self Trained word vector of 200 length\n",
    "'''\n",
    "model = Word2Vec.load('model200')\n",
    "vocab = model.wv.vocab"
   ]
  },
  {
   "cell_type": "code",
   "execution_count": 9,
   "metadata": {},
   "outputs": [
    {
     "name": "stderr",
     "output_type": "stream",
     "text": [
      "C:\\Users\\HP\\Anaconda3\\lib\\site-packages\\ipykernel_launcher.py:5: DeprecationWarning: Call to deprecated `__getitem__` (Method will be removed in 4.0.0, use self.wv.__getitem__() instead).\n",
      "  \"\"\"\n",
      "C:\\Users\\HP\\Anaconda3\\lib\\site-packages\\ipykernel_launcher.py:14: DeprecationWarning: Call to deprecated `__getitem__` (Method will be removed in 4.0.0, use self.wv.__getitem__() instead).\n",
      "  \n",
      "C:\\Users\\HP\\Anaconda3\\lib\\site-packages\\sklearn\\utils\\validation.py:578: DataConversionWarning: A column-vector y was passed when a 1d array was expected. Please change the shape of y to (n_samples, ), for example using ravel().\n",
      "  y = column_or_1d(y, warn=True)\n"
     ]
    },
    {
     "name": "stdout",
     "output_type": "stream",
     "text": [
      "[0.8497685  0.50973751 0.40125786]\n",
      "0.7635041015322706\n"
     ]
    },
    {
     "data": {
      "text/plain": [
       "array(['none', 'none', 'none', ..., 'sexism', 'sexism', 'none'],\n",
       "      dtype='<U6')"
      ]
     },
     "execution_count": 9,
     "metadata": {},
     "output_type": "execute_result"
    }
   ],
   "source": [
    "X = []\n",
    "for each in train_tweet_list:\n",
    "    t = np.zeros(200)\n",
    "    for i in each[1:]:\n",
    "        t = t + model[i]\n",
    "    t = t / len(each)\n",
    "    X.append(t)\n",
    "    \n",
    "test_vector = []\n",
    "for each in test_tweet_list:\n",
    "    t = np.zeros(200)\n",
    "    for i in each[1:]:\n",
    "        if i in vocab:\n",
    "            t = t + model[i]                    \n",
    "    t = t / len(each)\n",
    "    test_vector.append(t)\n",
    "    \n",
    "clf = SVC(kernel='linear')\n",
    "clf.fit(X,train_label_list)\n",
    "pred = clf.predict(test_vector)\n",
    "acc = accuracy_score(test_label_list,pred)\n",
    "f1 = f1_score(test_label_list,pred,average=None)\n",
    "print(f1)\n",
    "print(acc)\n",
    "pred"
   ]
  },
  {
   "cell_type": "code",
   "execution_count": 10,
   "metadata": {},
   "outputs": [
    {
     "name": "stderr",
     "output_type": "stream",
     "text": [
      "C:\\Users\\HP\\Anaconda3\\lib\\site-packages\\ipykernel_launcher.py:8: DeprecationWarning: Call to deprecated `__getitem__` (Method will be removed in 4.0.0, use self.wv.__getitem__() instead).\n",
      "  \n",
      "C:\\Users\\HP\\Anaconda3\\lib\\site-packages\\ipykernel_launcher.py:6: DeprecationWarning: Call to deprecated `__getitem__` (Method will be removed in 4.0.0, use self.wv.__getitem__() instead).\n",
      "  \n",
      "C:\\Users\\HP\\Anaconda3\\lib\\site-packages\\ipykernel_launcher.py:22: DeprecationWarning: Call to deprecated `__getitem__` (Method will be removed in 4.0.0, use self.wv.__getitem__() instead).\n",
      "C:\\Users\\HP\\Anaconda3\\lib\\site-packages\\ipykernel_launcher.py:20: DeprecationWarning: Call to deprecated `__getitem__` (Method will be removed in 4.0.0, use self.wv.__getitem__() instead).\n",
      "C:\\Users\\HP\\Anaconda3\\lib\\site-packages\\sklearn\\utils\\validation.py:578: DataConversionWarning: A column-vector y was passed when a 1d array was expected. Please change the shape of y to (n_samples, ), for example using ravel().\n",
      "  y = column_or_1d(y, warn=True)\n"
     ]
    },
    {
     "name": "stdout",
     "output_type": "stream",
     "text": [
      "[0.85518746 0.55206612 0.43312883]\n",
      "0.7735644637053087\n"
     ]
    },
    {
     "data": {
      "text/plain": [
       "array(['none', 'none', 'none', ..., 'sexism', 'sexism', 'none'],\n",
       "      dtype='<U6')"
      ]
     },
     "execution_count": 10,
     "metadata": {},
     "output_type": "execute_result"
    }
   ],
   "source": [
    "X_tf = []\n",
    "for each in train_tweet_list:\n",
    "    t = np.zeros(200)\n",
    "    for i in each[1:]:\n",
    "        if len(i)==1:\n",
    "            t = t + model[i] * v1[i.lower()]\n",
    "        else:\n",
    "            t = t + model[i] * v[i.lower()]\n",
    "    t = t / len(each)\n",
    "    X_tf.append(t)\n",
    "'''\n",
    "converting test tweet dataset to word vectors\n",
    "'''\n",
    "test_vector_tf = []\n",
    "for each in test_tweet_list:\n",
    "    t = np.zeros(200)\n",
    "    for i in each[1:]:\n",
    "        if i in vocab:\n",
    "            if len(i)==1:\n",
    "                t = t + model[i] * v1[i.lower()]\n",
    "            else:\n",
    "                t = t + model[i] * v[i.lower()]      \n",
    "    t = t / len(each)\n",
    "    test_vector_tf.append(t)\n",
    "clf = SVC(kernel='linear')\n",
    "clf.fit(X_tf,train_label_list)\n",
    "pred = clf.predict(test_vector_tf)\n",
    "acc = accuracy_score(test_label_list,pred)\n",
    "f1 = f1_score(test_label_list,pred,average=None)\n",
    "print(f1)\n",
    "print(acc)\n",
    "pred"
   ]
  },
  {
   "cell_type": "code",
   "execution_count": 11,
   "metadata": {},
   "outputs": [],
   "source": [
    "'''\n",
    "Self Trained word vector of 300 length\n",
    "'''\n",
    "model = Word2Vec.load('model300')\n",
    "vocab = model.wv.vocab"
   ]
  },
  {
   "cell_type": "code",
   "execution_count": 12,
   "metadata": {},
   "outputs": [
    {
     "name": "stderr",
     "output_type": "stream",
     "text": [
      "C:\\Users\\HP\\Anaconda3\\lib\\site-packages\\ipykernel_launcher.py:5: DeprecationWarning: Call to deprecated `__getitem__` (Method will be removed in 4.0.0, use self.wv.__getitem__() instead).\n",
      "  \"\"\"\n",
      "C:\\Users\\HP\\Anaconda3\\lib\\site-packages\\ipykernel_launcher.py:14: DeprecationWarning: Call to deprecated `__getitem__` (Method will be removed in 4.0.0, use self.wv.__getitem__() instead).\n",
      "  \n",
      "C:\\Users\\HP\\Anaconda3\\lib\\site-packages\\sklearn\\utils\\validation.py:578: DataConversionWarning: A column-vector y was passed when a 1d array was expected. Please change the shape of y to (n_samples, ), for example using ravel().\n",
      "  y = column_or_1d(y, warn=True)\n"
     ]
    },
    {
     "name": "stdout",
     "output_type": "stream",
     "text": [
      "[0.85017696 0.49784668 0.40402769]\n",
      "0.7636588763349327\n"
     ]
    },
    {
     "data": {
      "text/plain": [
       "array(['none', 'none', 'none', ..., 'sexism', 'sexism', 'none'],\n",
       "      dtype='<U6')"
      ]
     },
     "execution_count": 12,
     "metadata": {},
     "output_type": "execute_result"
    }
   ],
   "source": [
    "X = []\n",
    "for each in train_tweet_list:\n",
    "    t = np.zeros(300)\n",
    "    for i in each[1:]:\n",
    "        t = t + model[i]\n",
    "    t = t / len(each)\n",
    "    X.append(t)\n",
    "    \n",
    "test_vector = []\n",
    "for each in test_tweet_list:\n",
    "    t = np.zeros(300)\n",
    "    for i in each[1:]:\n",
    "        if i in vocab:\n",
    "            t = t + model[i]                    \n",
    "    t = t / len(each)\n",
    "    test_vector.append(t)\n",
    "    \n",
    "clf = SVC(kernel='linear')\n",
    "clf.fit(X,train_label_list)\n",
    "pred = clf.predict(test_vector)\n",
    "acc = accuracy_score(test_label_list,pred)\n",
    "f1 = f1_score(test_label_list,pred,average=None)\n",
    "print(f1)\n",
    "print(acc)\n",
    "pred"
   ]
  },
  {
   "cell_type": "code",
   "execution_count": 13,
   "metadata": {},
   "outputs": [
    {
     "name": "stderr",
     "output_type": "stream",
     "text": [
      "C:\\Users\\HP\\Anaconda3\\lib\\site-packages\\ipykernel_launcher.py:8: DeprecationWarning: Call to deprecated `__getitem__` (Method will be removed in 4.0.0, use self.wv.__getitem__() instead).\n",
      "  \n",
      "C:\\Users\\HP\\Anaconda3\\lib\\site-packages\\ipykernel_launcher.py:6: DeprecationWarning: Call to deprecated `__getitem__` (Method will be removed in 4.0.0, use self.wv.__getitem__() instead).\n",
      "  \n",
      "C:\\Users\\HP\\Anaconda3\\lib\\site-packages\\ipykernel_launcher.py:22: DeprecationWarning: Call to deprecated `__getitem__` (Method will be removed in 4.0.0, use self.wv.__getitem__() instead).\n",
      "C:\\Users\\HP\\Anaconda3\\lib\\site-packages\\ipykernel_launcher.py:20: DeprecationWarning: Call to deprecated `__getitem__` (Method will be removed in 4.0.0, use self.wv.__getitem__() instead).\n",
      "C:\\Users\\HP\\Anaconda3\\lib\\site-packages\\sklearn\\utils\\validation.py:578: DataConversionWarning: A column-vector y was passed when a 1d array was expected. Please change the shape of y to (n_samples, ), for example using ravel().\n",
      "  y = column_or_1d(y, warn=True)\n"
     ]
    },
    {
     "name": "stdout",
     "output_type": "stream",
     "text": [
      "[0.85425141 0.54439834 0.43467643]\n",
      "0.7721714904813496\n"
     ]
    },
    {
     "data": {
      "text/plain": [
       "array(['none', 'none', 'none', ..., 'sexism', 'sexism', 'none'],\n",
       "      dtype='<U6')"
      ]
     },
     "execution_count": 13,
     "metadata": {},
     "output_type": "execute_result"
    }
   ],
   "source": [
    "X_tf = []\n",
    "for each in train_tweet_list:\n",
    "    t = np.zeros(300)\n",
    "    for i in each[1:]:\n",
    "        if len(i)==1:\n",
    "            t = t + model[i] * v1[i.lower()]\n",
    "        else:\n",
    "            t = t + model[i] * v[i.lower()]\n",
    "    t = t / len(each)\n",
    "    X_tf.append(t)\n",
    "'''\n",
    "converting test tweet dataset to word vectors\n",
    "'''\n",
    "test_vector_tf = []\n",
    "for each in test_tweet_list:\n",
    "    t = np.zeros(300)\n",
    "    for i in each[1:]:\n",
    "        if i in vocab:\n",
    "            if len(i)==1:\n",
    "                t = t + model[i] * v1[i.lower()]\n",
    "            else:\n",
    "                t = t + model[i] * v[i.lower()]      \n",
    "    t = t / len(each)\n",
    "    test_vector_tf.append(t)\n",
    "clf = SVC(kernel='linear')\n",
    "clf.fit(X_tf,train_label_list)\n",
    "pred = clf.predict(test_vector_tf)\n",
    "acc = accuracy_score(test_label_list,pred)\n",
    "f1 = f1_score(test_label_list,pred,average=None)\n",
    "print(f1)\n",
    "print(acc)\n",
    "pred"
   ]
  },
  {
   "cell_type": "code",
   "execution_count": 14,
   "metadata": {},
   "outputs": [],
   "source": [
    "from gensim.models import KeyedVectors\n",
    "model = KeyedVectors.load_word2vec_format(\"GoogleNews-vectors-negative300.bin\",binary=True)"
   ]
  },
  {
   "cell_type": "code",
   "execution_count": 15,
   "metadata": {},
   "outputs": [
    {
     "name": "stderr",
     "output_type": "stream",
     "text": [
      "C:\\Users\\HP\\Anaconda3\\lib\\site-packages\\ipykernel_launcher.py:5: DeprecationWarning: Call to deprecated `wv` (Attribute will be removed in 4.0.0, use self instead).\n",
      "  \"\"\"\n",
      "C:\\Users\\HP\\Anaconda3\\lib\\site-packages\\ipykernel_launcher.py:14: DeprecationWarning: Call to deprecated `wv` (Attribute will be removed in 4.0.0, use self instead).\n",
      "  \n",
      "C:\\Users\\HP\\Anaconda3\\lib\\site-packages\\sklearn\\utils\\validation.py:578: DataConversionWarning: A column-vector y was passed when a 1d array was expected. Please change the shape of y to (n_samples, ), for example using ravel().\n",
      "  y = column_or_1d(y, warn=True)\n"
     ]
    },
    {
     "name": "stdout",
     "output_type": "stream",
     "text": [
      "[0.86159601 0.66806137 0.53433476]\n",
      "0.7929113140380746\n"
     ]
    },
    {
     "data": {
      "text/plain": [
       "array(['none', 'none', 'none', ..., 'sexism', 'sexism', 'none'],\n",
       "      dtype='<U6')"
      ]
     },
     "execution_count": 15,
     "metadata": {},
     "output_type": "execute_result"
    }
   ],
   "source": [
    "X = []\n",
    "for each in train_tweet_list:\n",
    "    t = np.zeros(300)\n",
    "    for i in each[1:]:\n",
    "        if i in model.wv.vocab:\n",
    "            t = t + model[i]\n",
    "    t = t / len(each)\n",
    "    X.append(t)\n",
    "    \n",
    "test_vector = []\n",
    "for each in test_tweet_list:\n",
    "    t = np.zeros(300)\n",
    "    for i in each[1:]:\n",
    "        if i in model.wv.vocab:\n",
    "            t = t + model[i]                    \n",
    "    t = t / len(each)\n",
    "    test_vector.append(t)\n",
    "    \n",
    "clf = SVC(kernel='linear')\n",
    "clf.fit(X,train_label_list)\n",
    "pred = clf.predict(test_vector)\n",
    "acc = accuracy_score(test_label_list,pred)\n",
    "f1 = f1_score(test_label_list,pred,average=None)\n",
    "print(f1)\n",
    "print(acc)\n",
    "pred"
   ]
  },
  {
   "cell_type": "code",
   "execution_count": 16,
   "metadata": {},
   "outputs": [
    {
     "name": "stderr",
     "output_type": "stream",
     "text": [
      "C:\\Users\\HP\\Anaconda3\\lib\\site-packages\\ipykernel_launcher.py:5: DeprecationWarning: Call to deprecated `wv` (Attribute will be removed in 4.0.0, use self instead).\n",
      "  \"\"\"\n",
      "C:\\Users\\HP\\Anaconda3\\lib\\site-packages\\ipykernel_launcher.py:19: DeprecationWarning: Call to deprecated `wv` (Attribute will be removed in 4.0.0, use self instead).\n",
      "C:\\Users\\HP\\Anaconda3\\lib\\site-packages\\sklearn\\utils\\validation.py:578: DataConversionWarning: A column-vector y was passed when a 1d array was expected. Please change the shape of y to (n_samples, ), for example using ravel().\n",
      "  y = column_or_1d(y, warn=True)\n"
     ]
    },
    {
     "name": "stdout",
     "output_type": "stream",
     "text": [
      "[0.85026794 0.64524949 0.52008239]\n",
      "0.7774338337718619\n"
     ]
    },
    {
     "data": {
      "text/plain": [
       "array(['none', 'none', 'none', ..., 'sexism', 'sexism', 'none'],\n",
       "      dtype='<U6')"
      ]
     },
     "execution_count": 16,
     "metadata": {},
     "output_type": "execute_result"
    }
   ],
   "source": [
    "X_tf = []\n",
    "for each in train_tweet_list:\n",
    "    t = np.zeros(300)\n",
    "    for i in each[1:]:\n",
    "        if i in model.wv.vocab:\n",
    "            if len(i)==1:\n",
    "                t = t + model[i] * v1[i.lower()]\n",
    "            else:\n",
    "                t = t + model[i] * v[i.lower()]\n",
    "    t = t / len(each)\n",
    "    X_tf.append(t)\n",
    "'''\n",
    "converting test tweet dataset to word vectors\n",
    "'''\n",
    "test_vector_tf = []\n",
    "for each in test_tweet_list:\n",
    "    t = np.zeros(300)\n",
    "    for i in each[1:]:\n",
    "        if i in model.wv.vocab:\n",
    "            if len(i)==1:\n",
    "                t = t + model[i] * v1[i.lower()]\n",
    "            else:\n",
    "                t = t + model[i] * v[i.lower()]      \n",
    "    t = t / len(each)\n",
    "    test_vector_tf.append(t)\n",
    "clf = SVC(kernel='linear')\n",
    "clf.fit(X_tf,train_label_list)\n",
    "pred = clf.predict(test_vector_tf)\n",
    "acc = accuracy_score(test_label_list,pred)\n",
    "f1 = f1_score(test_label_list,pred,average=None)\n",
    "print(f1)\n",
    "print(acc)\n",
    "pred"
   ]
  },
  {
   "cell_type": "code",
   "execution_count": 17,
   "metadata": {},
   "outputs": [],
   "source": [
    "model = KeyedVectors.load_word2vec_format(\"glove.50d.txt\",binary=False)"
   ]
  },
  {
   "cell_type": "code",
   "execution_count": 18,
   "metadata": {},
   "outputs": [
    {
     "name": "stderr",
     "output_type": "stream",
     "text": [
      "C:\\Users\\HP\\Anaconda3\\lib\\site-packages\\ipykernel_launcher.py:8: DeprecationWarning: Call to deprecated `wv` (Attribute will be removed in 4.0.0, use self instead).\n",
      "  \n",
      "C:\\Users\\HP\\Anaconda3\\lib\\site-packages\\ipykernel_launcher.py:17: DeprecationWarning: Call to deprecated `wv` (Attribute will be removed in 4.0.0, use self instead).\n",
      "C:\\Users\\HP\\Anaconda3\\lib\\site-packages\\sklearn\\utils\\validation.py:578: DataConversionWarning: A column-vector y was passed when a 1d array was expected. Please change the shape of y to (n_samples, ), for example using ravel().\n",
      "  y = column_or_1d(y, warn=True)\n"
     ]
    },
    {
     "name": "stdout",
     "output_type": "stream",
     "text": [
      "[0.83117136 0.34437086 0.32382134]\n",
      "0.7280606717226435\n"
     ]
    },
    {
     "data": {
      "text/plain": [
       "array(['none', 'none', 'none', ..., 'sexism', 'none', 'none'], dtype='<U6')"
      ]
     },
     "execution_count": 18,
     "metadata": {},
     "output_type": "execute_result"
    }
   ],
   "source": [
    "X = []\n",
    "for each in train_tweet_list:\n",
    "    t = np.zeros(50)\n",
    "    for i in each[1:]:\n",
    "        if i in model.wv.vocab:\n",
    "            t = t + model[i]\n",
    "    t = t / len(each)\n",
    "    X.append(t)\n",
    "    \n",
    "test_vector = []\n",
    "for each in test_tweet_list:\n",
    "    t = np.zeros(50)\n",
    "    for i in each[1:]:\n",
    "        if i in model.wv.vocab:\n",
    "            t = t + model[i]                    \n",
    "    t = t / len(each)\n",
    "    test_vector.append(t)\n",
    "    \n",
    "clf = SVC(kernel='linear')\n",
    "clf.fit(X,train_label_list)\n",
    "pred = clf.predict(test_vector)\n",
    "acc = accuracy_score(test_label_list,pred)\n",
    "f1 = f1_score(test_label_list,pred,average=None)\n",
    "print(f1)\n",
    "print(acc)\n",
    "pred"
   ]
  },
  {
   "cell_type": "code",
   "execution_count": 19,
   "metadata": {},
   "outputs": [
    {
     "name": "stderr",
     "output_type": "stream",
     "text": [
      "C:\\Users\\HP\\Anaconda3\\lib\\site-packages\\ipykernel_launcher.py:5: DeprecationWarning: Call to deprecated `wv` (Attribute will be removed in 4.0.0, use self instead).\n",
      "  \"\"\"\n",
      "C:\\Users\\HP\\Anaconda3\\lib\\site-packages\\ipykernel_launcher.py:19: DeprecationWarning: Call to deprecated `wv` (Attribute will be removed in 4.0.0, use self instead).\n",
      "C:\\Users\\HP\\Anaconda3\\lib\\site-packages\\sklearn\\utils\\validation.py:578: DataConversionWarning: A column-vector y was passed when a 1d array was expected. Please change the shape of y to (n_samples, ), for example using ravel().\n",
      "  y = column_or_1d(y, warn=True)\n"
     ]
    },
    {
     "name": "stdout",
     "output_type": "stream",
     "text": [
      "[0.81940144 0.30409357 0.        ]\n",
      "0.7000464324407987\n"
     ]
    },
    {
     "name": "stderr",
     "output_type": "stream",
     "text": [
      "C:\\Users\\HP\\Anaconda3\\lib\\site-packages\\sklearn\\metrics\\classification.py:1135: UndefinedMetricWarning: F-score is ill-defined and being set to 0.0 in labels with no predicted samples.\n",
      "  'precision', 'predicted', average, warn_for)\n"
     ]
    },
    {
     "data": {
      "text/plain": [
       "array(['none', 'none', 'none', ..., 'none', 'none', 'none'], dtype='<U6')"
      ]
     },
     "execution_count": 19,
     "metadata": {},
     "output_type": "execute_result"
    }
   ],
   "source": [
    "X_tf = []\n",
    "for each in train_tweet_list:\n",
    "    t = np.zeros(50)\n",
    "    for i in each[1:]:\n",
    "        if i in model.wv.vocab:\n",
    "            if len(i)==1:\n",
    "                t = t + model[i] * v1[i.lower()]\n",
    "            else:\n",
    "                t = t + model[i] * v[i.lower()]\n",
    "    t = t / len(each)\n",
    "    X_tf.append(t)\n",
    "'''\n",
    "converting test tweet dataset to word vectors\n",
    "'''\n",
    "test_vector_tf = []\n",
    "for each in test_tweet_list:\n",
    "    t = np.zeros(50)\n",
    "    for i in each[1:]:\n",
    "        if i in model.wv.vocab:\n",
    "            if len(i)==1:\n",
    "                t = t + model[i] * v1[i.lower()]\n",
    "            else:\n",
    "                t = t + model[i] * v[i.lower()]      \n",
    "    t = t / len(each)\n",
    "    test_vector_tf.append(t)\n",
    "clf = SVC(kernel='linear')\n",
    "clf.fit(X_tf,train_label_list)\n",
    "pred = clf.predict(test_vector_tf)\n",
    "acc = accuracy_score(test_label_list,pred)\n",
    "f1 = f1_score(test_label_list,pred,average=None)\n",
    "print(f1)\n",
    "print(acc)\n",
    "pred"
   ]
  },
  {
   "cell_type": "code",
   "execution_count": 20,
   "metadata": {},
   "outputs": [],
   "source": [
    "model = KeyedVectors.load_word2vec_format(\"glove.100d.txt\",binary=False)"
   ]
  },
  {
   "cell_type": "code",
   "execution_count": 21,
   "metadata": {},
   "outputs": [
    {
     "name": "stderr",
     "output_type": "stream",
     "text": [
      "C:\\Users\\HP\\Anaconda3\\lib\\site-packages\\ipykernel_launcher.py:8: DeprecationWarning: Call to deprecated `wv` (Attribute will be removed in 4.0.0, use self instead).\n",
      "  \n",
      "C:\\Users\\HP\\Anaconda3\\lib\\site-packages\\ipykernel_launcher.py:17: DeprecationWarning: Call to deprecated `wv` (Attribute will be removed in 4.0.0, use self instead).\n",
      "C:\\Users\\HP\\Anaconda3\\lib\\site-packages\\sklearn\\utils\\validation.py:578: DataConversionWarning: A column-vector y was passed when a 1d array was expected. Please change the shape of y to (n_samples, ), for example using ravel().\n",
      "  y = column_or_1d(y, warn=True)\n"
     ]
    },
    {
     "name": "stdout",
     "output_type": "stream",
     "text": [
      "[0.83945687 0.42307692 0.43019296]\n",
      "0.7467884228447609\n"
     ]
    },
    {
     "data": {
      "text/plain": [
       "array(['none', 'none', 'none', ..., 'sexism', 'sexism', 'none'],\n",
       "      dtype='<U6')"
      ]
     },
     "execution_count": 21,
     "metadata": {},
     "output_type": "execute_result"
    }
   ],
   "source": [
    "from sklearn.svm import SVC\n",
    "from sklearn.metrics import accuracy_score\n",
    "import numpy as np\n",
    "X = []\n",
    "for each in train_tweet_list:\n",
    "    t = np.zeros(100)\n",
    "    for i in each[1:]:\n",
    "        if i in model.wv.vocab:\n",
    "            t = t + model[i]\n",
    "    t = t / len(each)\n",
    "    X.append(t)\n",
    "    \n",
    "test_vector = []\n",
    "for each in test_tweet_list:\n",
    "    t = np.zeros(100)\n",
    "    for i in each[1:]:\n",
    "        if i in model.wv.vocab:\n",
    "            t = t + model[i]                    \n",
    "    t = t / len(each)\n",
    "    test_vector.append(t)\n",
    "    \n",
    "clf = SVC(kernel='linear')\n",
    "clf.fit(X,train_label_list)\n",
    "pred = clf.predict(test_vector)\n",
    "acc = accuracy_score(test_label_list,pred)\n",
    "f1 = f1_score(test_label_list,pred,average=None)\n",
    "print(f1)\n",
    "print(acc)\n",
    "pred"
   ]
  },
  {
   "cell_type": "code",
   "execution_count": 22,
   "metadata": {},
   "outputs": [
    {
     "name": "stderr",
     "output_type": "stream",
     "text": [
      "C:\\Users\\HP\\Anaconda3\\lib\\site-packages\\ipykernel_launcher.py:5: DeprecationWarning: Call to deprecated `wv` (Attribute will be removed in 4.0.0, use self instead).\n",
      "  \"\"\"\n",
      "C:\\Users\\HP\\Anaconda3\\lib\\site-packages\\ipykernel_launcher.py:19: DeprecationWarning: Call to deprecated `wv` (Attribute will be removed in 4.0.0, use self instead).\n",
      "C:\\Users\\HP\\Anaconda3\\lib\\site-packages\\sklearn\\utils\\validation.py:578: DataConversionWarning: A column-vector y was passed when a 1d array was expected. Please change the shape of y to (n_samples, ), for example using ravel().\n",
      "  y = column_or_1d(y, warn=True)\n"
     ]
    },
    {
     "name": "stdout",
     "output_type": "stream",
     "text": [
      "[0.82930677 0.40666082 0.32439024]\n",
      "0.7279058969199814\n"
     ]
    },
    {
     "data": {
      "text/plain": [
       "array(['none', 'none', 'none', ..., 'sexism', 'none', 'none'], dtype='<U6')"
      ]
     },
     "execution_count": 22,
     "metadata": {},
     "output_type": "execute_result"
    }
   ],
   "source": [
    "X_tf = []\n",
    "for each in train_tweet_list:\n",
    "    t = np.zeros(100)\n",
    "    for i in each[1:]:\n",
    "        if i in model.wv.vocab:\n",
    "            if len(i)==1:\n",
    "                t = t + model[i] * v1[i.lower()]\n",
    "            else:\n",
    "                t = t + model[i] * v[i.lower()]\n",
    "    t = t / len(each)\n",
    "    X_tf.append(t)\n",
    "'''\n",
    "converting test tweet dataset to word vectors\n",
    "'''\n",
    "test_vector_tf = []\n",
    "for each in test_tweet_list:\n",
    "    t = np.zeros(100)\n",
    "    for i in each[1:]:\n",
    "        if i in model.wv.vocab:\n",
    "            if len(i)==1:\n",
    "                t = t + model[i] * v1[i.lower()]\n",
    "            else:\n",
    "                t = t + model[i] * v[i.lower()]      \n",
    "    t = t / len(each)\n",
    "    test_vector_tf.append(t)\n",
    "clf = SVC(kernel='linear')\n",
    "clf.fit(X_tf,train_label_list)\n",
    "pred = clf.predict(test_vector_tf)\n",
    "acc = accuracy_score(test_label_list,pred)\n",
    "f1 = f1_score(test_label_list,pred,average=None)\n",
    "print(f1)\n",
    "print(acc)\n",
    "pred"
   ]
  },
  {
   "cell_type": "code",
   "execution_count": 23,
   "metadata": {},
   "outputs": [],
   "source": [
    "model = KeyedVectors.load_word2vec_format(\"glove.200d.txt\",binary=False)"
   ]
  },
  {
   "cell_type": "code",
   "execution_count": 24,
   "metadata": {},
   "outputs": [
    {
     "name": "stderr",
     "output_type": "stream",
     "text": [
      "C:\\Users\\HP\\Anaconda3\\lib\\site-packages\\ipykernel_launcher.py:5: DeprecationWarning: Call to deprecated `wv` (Attribute will be removed in 4.0.0, use self instead).\n",
      "  \"\"\"\n",
      "C:\\Users\\HP\\Anaconda3\\lib\\site-packages\\ipykernel_launcher.py:14: DeprecationWarning: Call to deprecated `wv` (Attribute will be removed in 4.0.0, use self instead).\n",
      "  \n",
      "C:\\Users\\HP\\Anaconda3\\lib\\site-packages\\sklearn\\utils\\validation.py:578: DataConversionWarning: A column-vector y was passed when a 1d array was expected. Please change the shape of y to (n_samples, ), for example using ravel().\n",
      "  y = column_or_1d(y, warn=True)\n"
     ]
    },
    {
     "name": "stdout",
     "output_type": "stream",
     "text": [
      "[0.84358275 0.46783626 0.46432492]\n",
      "0.7553010369911778\n"
     ]
    },
    {
     "data": {
      "text/plain": [
       "array(['none', 'none', 'none', ..., 'sexism', 'sexism', 'none'],\n",
       "      dtype='<U6')"
      ]
     },
     "execution_count": 24,
     "metadata": {},
     "output_type": "execute_result"
    }
   ],
   "source": [
    "X = []\n",
    "for each in train_tweet_list:\n",
    "    t = np.zeros(200)\n",
    "    for i in each[1:]:\n",
    "        if i in model.wv.vocab:\n",
    "            t = t + model[i]\n",
    "    t = t / len(each)\n",
    "    X.append(t)\n",
    "    \n",
    "test_vector = []\n",
    "for each in test_tweet_list:\n",
    "    t = np.zeros(200)\n",
    "    for i in each[1:]:\n",
    "        if i in model.wv.vocab:\n",
    "            t = t + model[i]                    \n",
    "    t = t / len(each)\n",
    "    test_vector.append(t)\n",
    "    \n",
    "clf = SVC(kernel='linear')\n",
    "clf.fit(X,train_label_list)\n",
    "pred = clf.predict(test_vector)\n",
    "acc = accuracy_score(test_label_list,pred)\n",
    "f1 = f1_score(test_label_list,pred,average=None)\n",
    "print(f1)\n",
    "print(acc)\n",
    "pred"
   ]
  },
  {
   "cell_type": "code",
   "execution_count": 25,
   "metadata": {},
   "outputs": [
    {
     "name": "stderr",
     "output_type": "stream",
     "text": [
      "C:\\Users\\HP\\Anaconda3\\lib\\site-packages\\ipykernel_launcher.py:5: DeprecationWarning: Call to deprecated `wv` (Attribute will be removed in 4.0.0, use self instead).\n",
      "  \"\"\"\n",
      "C:\\Users\\HP\\Anaconda3\\lib\\site-packages\\ipykernel_launcher.py:19: DeprecationWarning: Call to deprecated `wv` (Attribute will be removed in 4.0.0, use self instead).\n",
      "C:\\Users\\HP\\Anaconda3\\lib\\site-packages\\sklearn\\utils\\validation.py:578: DataConversionWarning: A column-vector y was passed when a 1d array was expected. Please change the shape of y to (n_samples, ), for example using ravel().\n",
      "  y = column_or_1d(y, warn=True)\n"
     ]
    },
    {
     "name": "stdout",
     "output_type": "stream",
     "text": [
      "[0.8341079  0.46217105 0.42367257]\n",
      "0.7416808543569107\n"
     ]
    },
    {
     "data": {
      "text/plain": [
       "array(['none', 'none', 'none', ..., 'sexism', 'none', 'none'], dtype='<U6')"
      ]
     },
     "execution_count": 25,
     "metadata": {},
     "output_type": "execute_result"
    }
   ],
   "source": [
    "X_tf = []\n",
    "for each in train_tweet_list:\n",
    "    t = np.zeros(200)\n",
    "    for i in each[1:]:\n",
    "        if i in model.wv.vocab:\n",
    "            if len(i)==1:\n",
    "                t = t + model[i] * v1[i.lower()]\n",
    "            else:\n",
    "                t = t + model[i] * v[i.lower()]\n",
    "    t = t / len(each)\n",
    "    X_tf.append(t)\n",
    "'''\n",
    "converting test tweet dataset to word vectors\n",
    "'''\n",
    "test_vector_tf = []\n",
    "for each in test_tweet_list:\n",
    "    t = np.zeros(200)\n",
    "    for i in each[1:]:\n",
    "        if i in model.wv.vocab:\n",
    "            if len(i)==1:\n",
    "                t = t + model[i] * v1[i.lower()]\n",
    "            else:\n",
    "                t = t + model[i] * v[i.lower()]      \n",
    "    t = t / len(each)\n",
    "    test_vector_tf.append(t)\n",
    "clf = SVC(kernel='linear')\n",
    "clf.fit(X_tf,train_label_list)\n",
    "pred = clf.predict(test_vector_tf)\n",
    "acc = accuracy_score(test_label_list,pred)\n",
    "f1 = f1_score(test_label_list,pred,average=None)\n",
    "print(f1)\n",
    "print(acc)\n",
    "pred"
   ]
  },
  {
   "cell_type": "code",
   "execution_count": 26,
   "metadata": {},
   "outputs": [],
   "source": [
    "model = KeyedVectors.load_word2vec_format(\"glove.300d.txt\",binary=False)"
   ]
  },
  {
   "cell_type": "code",
   "execution_count": 27,
   "metadata": {},
   "outputs": [
    {
     "name": "stderr",
     "output_type": "stream",
     "text": [
      "C:\\Users\\HP\\Anaconda3\\lib\\site-packages\\ipykernel_launcher.py:5: DeprecationWarning: Call to deprecated `wv` (Attribute will be removed in 4.0.0, use self instead).\n",
      "  \"\"\"\n",
      "C:\\Users\\HP\\Anaconda3\\lib\\site-packages\\ipykernel_launcher.py:14: DeprecationWarning: Call to deprecated `wv` (Attribute will be removed in 4.0.0, use self instead).\n",
      "  \n",
      "C:\\Users\\HP\\Anaconda3\\lib\\site-packages\\sklearn\\utils\\validation.py:578: DataConversionWarning: A column-vector y was passed when a 1d array was expected. Please change the shape of y to (n_samples, ), for example using ravel().\n",
      "  y = column_or_1d(y, warn=True)\n"
     ]
    },
    {
     "name": "stdout",
     "output_type": "stream",
     "text": [
      "[0.84771987 0.48867314 0.50053706]\n",
      "0.7633493267296084\n"
     ]
    },
    {
     "data": {
      "text/plain": [
       "array(['none', 'none', 'none', ..., 'sexism', 'sexism', 'none'],\n",
       "      dtype='<U6')"
      ]
     },
     "execution_count": 27,
     "metadata": {},
     "output_type": "execute_result"
    }
   ],
   "source": [
    "X = []\n",
    "for each in train_tweet_list:\n",
    "    t = np.zeros(300)\n",
    "    for i in each[1:]:\n",
    "        if i in model.wv.vocab:\n",
    "            t = t + model[i]\n",
    "    t = t / len(each)\n",
    "    X.append(t)\n",
    "    \n",
    "test_vector = []\n",
    "for each in test_tweet_list:\n",
    "    t = np.zeros(300)\n",
    "    for i in each[1:]:\n",
    "        if i in model.wv.vocab:\n",
    "            t = t + model[i]                    \n",
    "    t = t / len(each)\n",
    "    test_vector.append(t)\n",
    "    \n",
    "clf = SVC(kernel='linear')\n",
    "clf.fit(X,train_label_list)\n",
    "pred = clf.predict(test_vector)\n",
    "acc = accuracy_score(test_label_list,pred)\n",
    "f1 = f1_score(test_label_list,pred,average=None)\n",
    "print(f1)\n",
    "print(acc)\n",
    "pred"
   ]
  },
  {
   "cell_type": "code",
   "execution_count": 28,
   "metadata": {},
   "outputs": [
    {
     "name": "stderr",
     "output_type": "stream",
     "text": [
      "C:\\Users\\HP\\Anaconda3\\lib\\site-packages\\ipykernel_launcher.py:5: DeprecationWarning: Call to deprecated `wv` (Attribute will be removed in 4.0.0, use self instead).\n",
      "  \"\"\"\n",
      "C:\\Users\\HP\\Anaconda3\\lib\\site-packages\\ipykernel_launcher.py:19: DeprecationWarning: Call to deprecated `wv` (Attribute will be removed in 4.0.0, use self instead).\n",
      "C:\\Users\\HP\\Anaconda3\\lib\\site-packages\\sklearn\\utils\\validation.py:578: DataConversionWarning: A column-vector y was passed when a 1d array was expected. Please change the shape of y to (n_samples, ), for example using ravel().\n",
      "  y = column_or_1d(y, warn=True)\n"
     ]
    },
    {
     "name": "stdout",
     "output_type": "stream",
     "text": [
      "[0.84037223 0.4743083  0.48029819]\n",
      "0.7522055409379353\n"
     ]
    },
    {
     "data": {
      "text/plain": [
       "array(['none', 'none', 'none', ..., 'sexism', 'none', 'none'], dtype='<U6')"
      ]
     },
     "execution_count": 28,
     "metadata": {},
     "output_type": "execute_result"
    }
   ],
   "source": [
    "X_tf = []\n",
    "for each in train_tweet_list:\n",
    "    t = np.zeros(300)\n",
    "    for i in each[1:]:\n",
    "        if i in model.wv.vocab:\n",
    "            if len(i)==1:\n",
    "                t = t + model[i] * v1[i.lower()]\n",
    "            else:\n",
    "                t = t + model[i] * v[i.lower()]\n",
    "    t = t / len(each)\n",
    "    X_tf.append(t)\n",
    "'''\n",
    "converting test tweet dataset to word vectors\n",
    "'''\n",
    "test_vector_tf = []\n",
    "for each in test_tweet_list:\n",
    "    t = np.zeros(300)\n",
    "    for i in each[1:]:\n",
    "        if i in model.wv.vocab:\n",
    "            if len(i)==1:\n",
    "                t = t + model[i] * v1[i.lower()]\n",
    "            else:\n",
    "                t = t + model[i] * v[i.lower()]      \n",
    "    t = t / len(each)\n",
    "    test_vector_tf.append(t)\n",
    "clf = SVC(kernel='linear')\n",
    "clf.fit(X_tf,train_label_list)\n",
    "pred = clf.predict(test_vector_tf)\n",
    "acc = accuracy_score(test_label_list,pred)\n",
    "f1 = f1_score(test_label_list,pred,average=None)\n",
    "print(f1)\n",
    "print(acc)\n",
    "pred"
   ]
  }
 ],
 "metadata": {
  "kernelspec": {
   "display_name": "Python 3",
   "language": "python",
   "name": "python3"
  },
  "language_info": {
   "codemirror_mode": {
    "name": "ipython",
    "version": 3
   },
   "file_extension": ".py",
   "mimetype": "text/x-python",
   "name": "python",
   "nbconvert_exporter": "python",
   "pygments_lexer": "ipython3",
   "version": "3.6.5"
  }
 },
 "nbformat": 4,
 "nbformat_minor": 2
}
